{
 "cells": [
  {
   "cell_type": "markdown",
   "metadata": {
    "vscode": {
     "languageId": "plaintext"
    }
   },
   "source": [
    "# Introducción al aprendizaje automático"
   ]
  },
  {
   "cell_type": "markdown",
   "metadata": {},
   "source": [
    "### Información del curso:\n",
    "- **Nombre del curso**: Introducción al aprendizaje automático\n",
    "- **Profesor**: Dr. Jesús Emmanuel Solís Pérez\n",
    "- **Email**: jsolisp@unam.mx\n",
    "- **Semestre**: 2025-1\n",
    "- **Fecha**: Diciembre 09, 2024\n",
    "- **Enlace del curso**: [https://jesolisp.github.io/Curso-Introduccion-Aprendizaje-Automatico](https://jesolisp.github.io/Curso-Introduccion-Aprendizaje-Automatico/docs/home.html)\n",
    "\n",
    "---\n",
    "\n",
    "### Información del Notebook:\n",
    "- **Título del Notebook**: Introducción al aprendizaje automático\n",
    "- **Versión**: 1.0\n",
    "- **Última modificación**: November 17, 2024\n",
    "- **Descripción**: Este cuaderno tiene como finalidad dar a conocer las aplicaciones y tipos de aprendizaje automático.\n",
    "\n",
    "---\n",
    "\n",
    "### Instrucciones:\n",
    "1. **Orden de ejecución de celdas**: Ejecute las celdas en el orden presentado para garantizar que las dependencias se manejen adecuadamente.\n",
    "2. **Envío**: Guarde y envíe este cuaderno como un archivo `.ipynb` antes de la fecha de vencimiento.\n",
    "3. **Comentarios y documentación**: asegúrese de agregar comentarios y documentación adecuados a su código.\n",
    "\n",
    "---\n",
    "\n",
    "### Licencia:\n",
    "- Este cuaderno se proporciona únicamente con fines educativos. Todos los derechos reservados © 2024 ENES Juriquilla.\n",
    "\n",
    "---"
   ]
  },
  {
   "cell_type": "markdown",
   "metadata": {},
   "source": [
    "## ¿Qué es Machine Learning (ML)?\n",
    "\n",
    "Es una rama de la Inteligencia Artificial (IA) dedicada a la extracción de conocimiento a partir de datos. En este campo se intersectan la estadística, la inteligencia artificial y las ciencias computacionales. ML también es conocido como **análisis predictivo** o **aprendizaje estadístico**.\n",
    "\n",
    "```{figure} images/applications-of-machine-learning.png\n",
    " ---\n",
    " height: 280px\n",
    " width: 440px\n",
    " name: fig:applications-of-machine-learning\n",
    " ---\n",
    " Aplicaciones del aprendizaje automático.\n",
    "```\n",
    "\n",
    "### Tipos de machine learning\n",
    "\n",
    "* **Aprendizaje Supervisado (AS).** El usuario proporciona al algoritmo entradas y salidas deseadas para que busque la forma de producir lo deseado. \n",
    "\n",
    "```{figure} images/supervision-teacher.jpg\n",
    " ---\n",
    " height: 280px\n",
    " width: 440px\n",
    " name: fig:supervision-teacher\n",
    " ---\n",
    "```\n",
    "\n",
    "**Ejemplos:**\n",
    "\n",
    "1. Identificación de los caracteres en una placa de carro\n",
    "2. Diagnóstico de un tumor basado en imágenes médicas\n",
    "3. Detección de actividades fraudulentas\n",
    "\n",
    "* **Aprendizaje No Supervisado (ANS).** Sólo se conocen las entradas y se desconoce la salida. Son difíciles de entender y evaluar.\n",
    "\n",
    "**Ejemplos:**\n",
    "\n",
    "1. Identificar el tema en un junto de posts de Facebook, tuits o comentarios\n",
    "2. Segmentación de consumidores (padres, niños, \"gamers\", etc.)\n",
    "3. Detección de patrones de acceso anormales en un sitio web\n",
    "\n",
    "```{figure} images/tabla-articulo.png\n",
    " ---\n",
    " height: 940px\n",
    " width: 780px\n",
    " name: fig:tabla-articulo\n",
    " ---\n",
    "```\n",
    "\n",
    "Cada dato a analizar es una **fila** y cada propiedad que describe ese punto es una **columna**. En ML, cada fila es conocida como **muestra** y las columnas son llamadas **características**.\n",
    "\n",
    "* **Aprendizaje Semi-Supervisado (ASS).** una porción de los datos está etiquetada y el resto no (Bobadilla,2021). Además, la muestra de los datos etiquetados es más pequeña que las que no están etiquetadas.\n",
    "\n",
    "\n",
    "* **Aprendizaje por Refuerzo (AR).** Inspirado en mecanismos naturales. Recibe información del mundo real o de un entorno simulado.\n",
    "\n",
    "Los tipos de problemas abordados por el aprendizaje _supervisado_ y _no supervisado_ son los siguientes:\n",
    "\n",
    "|**Aprendizaje** | **Variable continua**        | **Variable categórica**|\n",
    "|:--------------:|:----------------------------:|:----------------------:|\n",
    "| Supervisado    | Regresión                    | Clasificación          |\n",
    "| No supervisado | Reducción de dimensionalidad | Clustering             |"
   ]
  },
  {
   "cell_type": "markdown",
   "metadata": {},
   "source": [
    "## Librerías necesarias y herramientas\n",
    "\n",
    "* **Jupyter Notebook.** Entorno interactivo para coder código en un navegador. Soporta diversos lenguajes, por ejemplo: Python, Julia, R, Maxima, Octave, MATLAB.\n",
    "\n",
    "```{figure} images/jupyter-lang.jpg\n",
    " ---\n",
    " height: 740px\n",
    " width: 580px\n",
    " name: fig:jupyter-lang\n",
    " ---\n",
    "```\n",
    "\n",
    "* **NumPy.** Permite trabajar con arreglos multidimensionales, funciones matemáticas de alto nivel, operaciones de álgebra lineal, transformada de Fourier y generadores de números pseudo aleatorios."
   ]
  },
  {
   "cell_type": "code",
   "execution_count": 1,
   "metadata": {},
   "outputs": [
    {
     "name": "stdout",
     "output_type": "stream",
     "text": [
      "x:\n",
      "[[1 2 3]\n",
      " [4 5 6]]\n"
     ]
    }
   ],
   "source": [
    "import numpy as np\n",
    "\n",
    "x = np.array([[1,2,3],[4,5,6]])\n",
    "print(\"x:\\n{}\".format(x))"
   ]
  },
  {
   "cell_type": "markdown",
   "metadata": {},
   "source": [
    "* **matplotlib.** Librería de graficación científica. Proporciona funciones para visualizar gráficas de líneas, histogramas, gráficos de dispersión, entre otros más.\n",
    "\n",
    "Para poder graficar dentro de los Notebook de Jupyter, necesitamos la instrucción `%matplotlib notebook` y `%matplotlib inline`.\n",
    "\n",
    "**Ejemplo:** Grafique la siguiente función\n",
    "\n",
    "$$\n",
    " f(x) = \\sin(x), \\quad x\\in[0,2\\pi].\n",
    "$$ (eqn:funcion_1)"
   ]
  },
  {
   "cell_type": "code",
   "execution_count": 2,
   "metadata": {},
   "outputs": [
    {
     "data": {
      "text/plain": [
       "[<matplotlib.lines.Line2D at 0x70eee2c3f950>]"
      ]
     },
     "execution_count": 2,
     "metadata": {},
     "output_type": "execute_result"
    },
    {
     "data": {
      "image/png": "[encoded data removed]",
      "text/plain": [
       "<Figure size 640x480 with 1 Axes>"
      ]
     },
     "metadata": {},
     "output_type": "display_data"
    }
   ],
   "source": [
    "import matplotlib.pyplot as plt\n",
    "\n",
    "# Genera una secuencia de números de 0 a 2pi\n",
    "x = np.linspace(0,2*np.pi,100)\n",
    "\n",
    "# Crea un arreglo para la función f(x) = sin(x)\n",
    "fx = np.sin(x)\n",
    "\n",
    "# Grafica la función\n",
    "plt.plot(x, fx, marker=\"x\")"
   ]
  },
  {
   "cell_type": "markdown",
   "metadata": {},
   "source": [
    "* **pandas.** biblioteca para el tratamiento y análisis de datos. Utiliza estructuras de datos llamadas *DataFrame*."
   ]
  },
  {
   "cell_type": "code",
   "execution_count": 3,
   "metadata": {},
   "outputs": [
    {
     "data": {
      "text/html": [
       "<div>\n",
       "<style scoped>\n",
       "    .dataframe tbody tr th:only-of-type {\n",
       "        vertical-align: middle;\n",
       "    }\n",
       "\n",
       "    .dataframe tbody tr th {\n",
       "        vertical-align: top;\n",
       "    }\n",
       "\n",
       "    .dataframe thead th {\n",
       "        text-align: right;\n",
       "    }\n",
       "</style>\n",
       "<table border=\"1\" class=\"dataframe\">\n",
       "  <thead>\n",
       "    <tr style=\"text-align: right;\">\n",
       "      <th></th>\n",
       "      <th>Nombre</th>\n",
       "      <th>Carrera</th>\n",
       "      <th>Edad</th>\n",
       "    </tr>\n",
       "  </thead>\n",
       "  <tbody>\n",
       "    <tr>\n",
       "      <th>0</th>\n",
       "      <td>Juan</td>\n",
       "      <td>Ingeniería en energías renovables</td>\n",
       "      <td>20</td>\n",
       "    </tr>\n",
       "    <tr>\n",
       "      <th>1</th>\n",
       "      <td>Ana</td>\n",
       "      <td>Neurociencias</td>\n",
       "      <td>21</td>\n",
       "    </tr>\n",
       "    <tr>\n",
       "      <th>2</th>\n",
       "      <td>Pedro</td>\n",
       "      <td>Tecnología</td>\n",
       "      <td>23</td>\n",
       "    </tr>\n",
       "    <tr>\n",
       "      <th>3</th>\n",
       "      <td>Claudia</td>\n",
       "      <td>Ciencias de la tierra</td>\n",
       "      <td>22</td>\n",
       "    </tr>\n",
       "  </tbody>\n",
       "</table>\n",
       "</div>"
      ],
      "text/plain": [
       "    Nombre                            Carrera  Edad\n",
       "0     Juan  Ingeniería en energías renovables    20\n",
       "1      Ana                      Neurociencias    21\n",
       "2    Pedro                         Tecnología    23\n",
       "3  Claudia              Ciencias de la tierra    22"
      ]
     },
     "metadata": {},
     "output_type": "display_data"
    },
    {
     "data": {
      "text/html": [
       "<div>\n",
       "<style scoped>\n",
       "    .dataframe tbody tr th:only-of-type {\n",
       "        vertical-align: middle;\n",
       "    }\n",
       "\n",
       "    .dataframe tbody tr th {\n",
       "        vertical-align: top;\n",
       "    }\n",
       "\n",
       "    .dataframe thead th {\n",
       "        text-align: right;\n",
       "    }\n",
       "</style>\n",
       "<table border=\"1\" class=\"dataframe\">\n",
       "  <thead>\n",
       "    <tr style=\"text-align: right;\">\n",
       "      <th></th>\n",
       "      <th>Nombre</th>\n",
       "      <th>Carrera</th>\n",
       "      <th>Edad</th>\n",
       "    </tr>\n",
       "  </thead>\n",
       "  <tbody>\n",
       "    <tr>\n",
       "      <th>2</th>\n",
       "      <td>Pedro</td>\n",
       "      <td>Tecnología</td>\n",
       "      <td>23</td>\n",
       "    </tr>\n",
       "    <tr>\n",
       "      <th>3</th>\n",
       "      <td>Claudia</td>\n",
       "      <td>Ciencias de la tierra</td>\n",
       "      <td>22</td>\n",
       "    </tr>\n",
       "  </tbody>\n",
       "</table>\n",
       "</div>"
      ],
      "text/plain": [
       "    Nombre                Carrera  Edad\n",
       "2    Pedro             Tecnología    23\n",
       "3  Claudia  Ciencias de la tierra    22"
      ]
     },
     "metadata": {},
     "output_type": "display_data"
    }
   ],
   "source": [
    "import pandas as pd\n",
    "\n",
    "# Crea un conjunto de datos simple\n",
    "data = {'Nombre': [\"Juan\",\"Ana\",\"Pedro\",\"Claudia\"],\n",
    "        'Carrera': [\"Ingeniería en energías renovables\",\"Neurociencias\",\"Tecnología\",\"Ciencias de la tierra\"],\n",
    "        'Edad': [20,21,23,22]\n",
    "}\n",
    "\n",
    "data_pandas = pd.DataFrame(data)\n",
    "display(data_pandas)\n",
    "\n",
    "display(data_pandas[data_pandas.Edad > 21])"
   ]
  },
  {
   "cell_type": "markdown",
   "metadata": {},
   "source": [
    "# Análisis exploratorio\n",
    "\n",
    "{cite}`Corvetti_2006`\n",
    "\n",
    "## Tipos de dato en las columnas\n",
    "\n",
    "## Cantidad de observaciones y valores faltantes\n",
    "\n",
    "## Correlación de variables numéricas\n",
    "\n",
    "## Variables cualitativas\n",
    "\n",
    "# División en conjunto de entrenamiento y prueba\n",
    "\n",
    "# Preprocesamiento\n",
    "\n",
    "## Eliminación de valores faltantes\n",
    "\n",
    "## Exclusión de variables con varianza próxima a cero\n",
    "\n",
    "## Estandarización y escalado de variables numéricas\n",
    "\n",
    "## Binarización de las variables cualitativas\n",
    "\n",
    "# Validación de modelos\n",
    "\n",
    "## Métodos de validación\n",
    "- **k-Fold-Cross-Validation (CV)**\n",
    "- **Leave-One-Out Cross-Validation (LOOCV)**\n",
    "- **Repeated k-Fold-Cross-Validation (repeated CV)**\n",
    "- **Leave-Group-Out Cross-Validation (LGOCV)**\n",
    "- **Bootstrapping**\n",
    "\n",
    "# Métricas de validación\n",
    "- **Accuracy y Kappa**\n",
    "- **MSE, RMSE, MAE**"
   ]
  },
  {
   "cell_type": "markdown",
   "metadata": {},
   "source": [
    "## Material de apoyo"
   ]
  }
 ],
 "metadata": {
  "kernelspec": {
   "display_name": "base",
   "language": "python",
   "name": "python3"
  },
  "language_info": {
   "codemirror_mode": {
    "name": "ipython",
    "version": 3
   },
   "file_extension": ".py",
   "mimetype": "text/x-python",
   "name": "python",
   "nbconvert_exporter": "python",
   "pygments_lexer": "ipython3",
   "version": "3.11.8"
  }
 },
 "nbformat": 4,
 "nbformat_minor": 2
}
