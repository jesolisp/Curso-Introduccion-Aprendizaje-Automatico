{
 "cells": [
  {
   "cell_type": "markdown",
   "metadata": {
    "vscode": {
     "languageId": "plaintext"
    }
   },
   "source": [
    "# Introducción al aprendizaje automático"
   ]
  },
  {
   "cell_type": "markdown",
   "metadata": {},
   "source": [
    "### Información del curso:\n",
    "- **Nombre del curso**: Introducción al aprendizaje automático\n",
    "- **Profesor**: Dr. Jesús Emmanuel Solís Pérez\n",
    "- **Email**: jsolisp@unam.mx\n",
    "- **Semestre**: 2025-1\n",
    "- **Fecha**: Diciembre 09, 2024\n",
    "- **Enlace del curso**: [https://jesolisp.github.io/Curso-Introduccion-Aprendizaje-Automatico](https://jesolisp.github.io/Curso-Introduccion-Aprendizaje-Automatico/docs/home.html)\n",
    "\n",
    "---\n",
    "\n",
    "### Información del Notebook:\n",
    "- **Título del Notebook**: Introducción al aprendizaje automático\n",
    "- **Versión**: 1.0\n",
    "- **Última modificación**: November 17, 2024\n",
    "- **Descripción**: Este cuaderno tiene como finalidad dar a conocer las aplicaciones y tipos de aprendizaje automático.\n",
    "\n",
    "---\n",
    "\n",
    "### Instrucciones:\n",
    "1. **Orden de ejecución de celdas**: Ejecute las celdas en el orden presentado para garantizar que las dependencias se manejen adecuadamente.\n",
    "2. **Envío**: Guarde y envíe este cuaderno como un archivo `.ipynb` antes de la fecha de vencimiento.\n",
    "3. **Comentarios y documentación**: asegúrese de agregar comentarios y documentación adecuados a su código.\n",
    "\n",
    "---\n",
    "\n",
    "### Licencia:\n",
    "- Este cuaderno se proporciona únicamente con fines educativos. Todos los derechos reservados © 2024 ENES Juriquilla.\n",
    "\n",
    "---"
   ]
  },
  {
   "cell_type": "markdown",
   "metadata": {},
   "source": [
    "## ¿Qué es Machine Learning (ML)?\n",
    "\n",
    "Es una rama de la Inteligencia Artificial (IA) dedicada a la extracción de conocimiento a partir de datos. En este campo se intersectan la estadística, la inteligencia artificial y las ciencias computacionales. ML también es conocido como **análisis predictivo** o **aprendizaje estadístico**.\n",
    "\n",
    "```{figure} images/applications-of-machine-learning.png\n",
    " ---\n",
    " height: 280px\n",
    " width: 440px\n",
    " name: fig:applications-of-machine-learning\n",
    " ---\n",
    " Aplicaciones del aprendizaje automático.\n",
    "```\n",
    "\n",
    "### Tipos de machine learning\n",
    "\n",
    "* **Aprendizaje Supervisado (AS).** El usuario proporciona al algoritmo entradas y salidas deseadas para que busque la forma de producir lo deseado. \n",
    "\n",
    "```{figure} images/supervision-teacher.jpg\n",
    " ---\n",
    " height: 280px\n",
    " width: 440px\n",
    " name: fig:supervision-teacher\n",
    " ---\n",
    "```\n",
    "\n",
    "**Ejemplos:**\n",
    "\n",
    "1. Identificación de los caracteres en una placa de carro\n",
    "2. Diagnóstico de un tumor basado en imágenes médicas\n",
    "3. Detección de actividades fraudulentas\n",
    "\n",
    "* **Aprendizaje No Supervisado (ANS).** Sólo se conocen las entradas y se desconoce la salida. Son difíciles de entender y evaluar.\n",
    "\n",
    "**Ejemplos:**\n",
    "\n",
    "1. Identificar el tema en un junto de posts de Facebook, tuits o comentarios\n",
    "2. Segmentación de consumidores (padres, niños, \"gamers\", etc.)\n",
    "3. Detección de patrones de acceso anormales en un sitio web\n",
    "\n",
    "```{figure} images/tabla-articulo.png\n",
    " ---\n",
    " height: 940px\n",
    " width: 780px\n",
    " name: fig:tabla-articulo\n",
    " ---\n",
    "```\n",
    "\n",
    "Cada dato a analizar es una **fila** y cada propiedad que describe ese punto es una **columna**. En ML, cada fila es conocida como **muestra** y las columnas son llamadas **características**.\n",
    "\n",
    "* **Aprendizaje Semi-Supervisado (ASS).** una porción de los datos está etiquetada y el resto no (Bobadilla,2021). Además, la muestra de los datos etiquetados es más pequeña que las que no están etiquetadas.\n",
    "\n",
    "\n",
    "* **Aprendizaje por Refuerzo (AR).** Inspirado en mecanismos naturales. Recibe información del mundo real o de un entorno simulado.\n",
    "\n",
    "Los tipos de problemas abordados por el aprendizaje _supervisado_ y _no supervisado_ son los siguientes:\n",
    "\n",
    "|**Aprendizaje** | **Variable continua**        | **Variable categórica**|\n",
    "|:--------------:|:----------------------------:|:----------------------:|\n",
    "| Supervisado    | Regresión                    | Clasificación          |\n",
    "| No supervisado | Reducción de dimensionalidad | Clustering             |"
   ]
  },
  {
   "cell_type": "markdown",
   "metadata": {},
   "source": [
    "## Librerías necesarias y herramientas\n",
    "\n",
    "* **Jupyter Notebook.** Entorno interactivo para coder código en un navegador. Soporta diversos lenguajes, por ejemplo: Python, Julia, R, Maxima, Octave, MATLAB.\n",
    "\n",
    "```{figure} images/jupyter-lang.jpg\n",
    " ---\n",
    " height: 740px\n",
    " width: 580px\n",
    " name: fig:jupyter-lang\n",
    " ---\n",
    "```\n",
    "\n",
    "* **NumPy.** Permite trabajar con arreglos multidimensionales, funciones matemáticas de alto nivel, operaciones de álgebra lineal, transformada de Fourier y generadores de números pseudo aleatorios."
   ]
  },
  {
   "cell_type": "code",
   "execution_count": null,
   "metadata": {},
   "outputs": [],
   "source": [
    "import numpy as np\n",
    "\n",
    "x = np.array([[1,2,3],[4,5,6]])\n",
    "print(\"x:\\n{}\".format(x))"
   ]
  },
  {
   "cell_type": "markdown",
   "metadata": {},
   "source": [
    "* **matplotlib.** Librería de graficación científica. Proporciona funciones para visualizar gráficas de líneas, histogramas, gráficos de dispersión, entre otros más.\n",
    "\n",
    "Para poder graficar dentro de los Notebook de Jupyter, necesitamos la instrucción `%matplotlib notebook` y `%matplotlib inline`.\n",
    "\n",
    "**Ejemplo:** Grafique la siguiente función\n",
    "\n",
    "$$\n",
    " f(x) = \\sin(x), \\quad x\\in[0,2\\pi].\n",
    "$$ (eqn:funcion_1)"
   ]
  },
  {
   "cell_type": "code",
   "execution_count": null,
   "metadata": {},
   "outputs": [],
   "source": [
    "import matplotlib.pyplot as plt\n",
    "\n",
    "# Genera una secuencia de números de 0 a 2pi\n",
    "x = np.linspace(0,2*np.pi,100)\n",
    "\n",
    "# Crea un arreglo para la función f(x) = sin(x)\n",
    "fx = np.sin(x)\n",
    "\n",
    "# Grafica la función\n",
    "plt.plot(x, fx, marker=\"x\")"
   ]
  },
  {
   "cell_type": "markdown",
   "metadata": {},
   "source": [
    "* **pandas.** biblioteca para el tratamiento y análisis de datos. Utiliza estructuras de datos llamadas *DataFrame*."
   ]
  },
  {
   "cell_type": "code",
   "execution_count": null,
   "metadata": {},
   "outputs": [],
   "source": [
    "import pandas as pd\n",
    "\n",
    "# Crea un conjunto de datos simple\n",
    "data = {'Nombre': [\"Juan\",\"Ana\",\"Pedro\",\"Claudia\"],\n",
    "        'Carrera': [\"Ingeniería en energías renovables\",\"Neurociencias\",\"Tecnología\",\"Ciencias de la tierra\"],\n",
    "        'Edad': [20,21,23,22]\n",
    "}\n",
    "\n",
    "data_pandas = pd.DataFrame(data)\n",
    "display(data_pandas)\n",
    "\n",
    "display(data_pandas[data_pandas.Edad > 21])"
   ]
  },
  {
   "cell_type": "markdown",
   "metadata": {},
   "source": [
    "## Material de apoyo"
   ]
  }
 ],
 "metadata": {
  "language_info": {
   "name": "python"
  }
 },
 "nbformat": 4,
 "nbformat_minor": 2
}
