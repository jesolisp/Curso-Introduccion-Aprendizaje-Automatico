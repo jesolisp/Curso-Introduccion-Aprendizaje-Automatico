{
 "cells": [
  {
   "cell_type": "markdown",
   "metadata": {},
   "source": [
    "# Modelos de regresión"
   ]
  },
  {
   "cell_type": "markdown",
   "metadata": {
    "vscode": {
     "languageId": "plaintext"
    }
   },
   "source": [
    "### Información del curso:\n",
    "- **Nombre del curso**: Introducción al aprendizaje automático\n",
    "- **Profesor**: Dr. Jesús Emmanuel Solís Pérez\n",
    "- **Email**: jsolisp@unam.mx\n",
    "- **Semestre**: 2025-1\n",
    "- **Fecha**: Diciembre 09, 2024\n",
    "- **Enlace del curso**: [https://jesolisp.github.io/Curso-Introduccion-Aprendizaje-Automatico](https://jesolisp.github.io/Curso-Introduccion-Aprendizaje-Automatico/docs/home.html)\n",
    "\n",
    "---\n",
    "\n",
    "### Información del Notebook:\n",
    "- **Título del Notebook**: Modelos de regresión\n",
    "- **Versión**: 1.0\n",
    "- **Última modificación**: November 17, 2024\n",
    "- **Descripción**: Este cuaderno tiene como finalidad dar a conocer las aplicaciones y tipos de aprendizaje automático.\n",
    "\n",
    "---\n",
    "\n",
    "### Instrucciones:\n",
    "1. **Orden de ejecución de celdas**: Ejecute las celdas en el orden presentado para garantizar que las dependencias se manejen adecuadamente.\n",
    "2. **Envío**: Guarde y envíe este cuaderno como un archivo `.ipynb` antes de la fecha de vencimiento.\n",
    "3. **Comentarios y documentación**: asegúrese de agregar comentarios y documentación adecuados a su código.\n",
    "\n",
    "---\n",
    "\n",
    "### Licencia:\n",
    "- Este cuaderno se proporciona únicamente con fines educativos. Todos los derechos reservados © 2024 ENES Juriquilla.\n",
    "\n",
    "---"
   ]
  },
  {
   "cell_type": "markdown",
   "metadata": {
    "vscode": {
     "languageId": "plaintext"
    }
   },
   "source": [
    "## Regresión y clasificación\n",
    "\n",
    "Existen dos tipos de problemas de ML supervisados: **clasificación** y **regresión**. \n",
    "\n",
    "* **Clasificación.** El objetivo es predecir una _etiqueta clase_.\n",
    "    * _Binaria_. Clasifica entre dos clases (verdadero/falso, positivo/negativo, si/no).\n",
    "    * _Multiclase_. Clasifica entre dos o más clases.\n",
    "    \n",
    "* **Regresión.** Predecir números contínuos, _números de punto flotante_ (término de programación), o _números reales_ (término en matemáticas.)\n",
    "\n",
    "## Generalization, Overfitting, and Underfitting\n",
    "En AS, queremos construir un modelo a partir de datos de entrenamiento capaz de realizar predicciones precisas sobre nuevas. Es decir, sobre datos no conocidos (datos de prueba) que tienen las mismas características que los datos que utilizamos para entrenar al modelo.\n",
    "\n",
    "Si un modelo es capaz de realizar predicciones precisas sobre datos nuevos, entonces el modelo puede **generalizar** de los datos de entrada a los datos de prueba.\n",
    "\n",
    "```{figure} images/navaja.jpg\n",
    " ---\n",
    " height: 380px\n",
    " width: 540px\n",
    " name: fig:navaja\n",
    " ---\n",
    "```\n",
    "\n",
    "> _\"La explicación más simple es la más probable, aunque no necesariamente la verdadera.\"_\n",
    "\n",
    "Un error común es construir un modelo complejo para la cantidad de datos que tenemos, este error suele llevar a un **overfitting** (sobre ajuste). El sobreajuste se produce cuando un modelo es ajustado demasiado a los datos de entrenamiento. Se desempeña bien ante los datos de entrenamiento pero no generaliza a datos nuevos.\n",
    "\n",
    "Si un modelo es muy simple, es posible que éste no pueda capturar la variabilidad de los datos y sus aspectos. A esto se le conoce como **underfitting** (desajuste).\n",
    "\n",
    "```{figure} images/diagrama_dispersion.png\n",
    " ---\n",
    " height: 380px\n",
    " width: 540px\n",
    " name: fig:diagrama_dispersion\n",
    " ---\n",
    " Ejemplo de diagrama de dispersión.\n",
    "```\n",
    "\n",
    "# Modelos lineales\n",
    "Son modelos ampliamente utilizados en la práctica y muy usados en las últimas décadas. Los modelos lineales hacen una predicción utilizando una función lineal:\n",
    "\n",
    "$$\n",
    " \\hat{y} = \\beta_{0}\\cdot x_{0} + \\beta_{1}\\cdot x_{1} + \\cdots + \\beta_{p}\\cdot x_{p} + b,\n",
    "$$\n",
    "donde $x_{0}$ a $x_{p}$ denota las características, $\\beta$ y $b$ los parámetros del modelo, $\\hat{y}$ la predicción hecha por el modelo. Para un conjunto de datos con una sola característica está dada como sigue:\n",
    "\n",
    "$$\n",
    " \\hat{y} = \\beta_{0}\\cdot x_{0} + b.\n",
    "$$\n",
    "\n",
    "Aquí, $\\beta_{0}$ es la pendiente y $b$ el intercepto.\n",
    "\n",
    "## Regresión lineal (mínimos cuadrados ordinarios)\n",
    "Regresión lineal o *ordinary least squares (OLS)* es el modelo más simple de regresión. Se trata de encontrar los parámetros $\\beta$ y $b$ que minimicen el *MSE* entre los datos predichos y los datos reales. Es decir:\n",
    "\n",
    "$$\n",
    " \\underset{\\beta_{0},\\beta_{1}}{\\min} \\left\\{ \\frac{1}{N} \\sum_{k=1}^{N} \\left( y - \\hat{y} \\right)^{2} \\right\\},\n",
    "$$\n",
    "donde\n",
    "\n",
    "$$\n",
    " \\hat{y} = \\beta_{0} + \\beta_{1}\\cdot x.\n",
    "$$"
   ]
  },
  {
   "cell_type": "code",
   "execution_count": 1,
   "metadata": {},
   "outputs": [],
   "source": [
    "import numpy as np\n",
    "from sklearn.linear_model import LinearRegression\n",
    "from sklearn import datasets"
   ]
  },
  {
   "cell_type": "code",
   "execution_count": 2,
   "metadata": {},
   "outputs": [
    {
     "ename": "ImportError",
     "evalue": "\n`load_boston` has been removed from scikit-learn since version 1.2.\n\nThe Boston housing prices dataset has an ethical problem: as\ninvestigated in [1], the authors of this dataset engineered a\nnon-invertible variable \"B\" assuming that racial self-segregation had a\npositive impact on house prices [2]. Furthermore the goal of the\nresearch that led to the creation of this dataset was to study the\nimpact of air quality but it did not give adequate demonstration of the\nvalidity of this assumption.\n\nThe scikit-learn maintainers therefore strongly discourage the use of\nthis dataset unless the purpose of the code is to study and educate\nabout ethical issues in data science and machine learning.\n\nIn this special case, you can fetch the dataset from the original\nsource::\n\n    import pandas as pd\n    import numpy as np\n\n    data_url = \"http://lib.stat.cmu.edu/datasets/boston\"\n    raw_df = pd.read_csv(data_url, sep=\"\\s+\", skiprows=22, header=None)\n    data = np.hstack([raw_df.values[::2, :], raw_df.values[1::2, :2]])\n    target = raw_df.values[1::2, 2]\n\nAlternative datasets include the California housing dataset and the\nAmes housing dataset. You can load the datasets as follows::\n\n    from sklearn.datasets import fetch_california_housing\n    housing = fetch_california_housing()\n\nfor the California housing dataset and::\n\n    from sklearn.datasets import fetch_openml\n    housing = fetch_openml(name=\"house_prices\", as_frame=True)\n\nfor the Ames housing dataset.\n\n[1] M Carlisle.\n\"Racist data destruction?\"\n<https://medium.com/@docintangible/racist-data-destruction-113e3eff54a8>\n\n[2] Harrison Jr, David, and Daniel L. Rubinfeld.\n\"Hedonic housing prices and the demand for clean air.\"\nJournal of environmental economics and management 5.1 (1978): 81-102.\n<https://www.researchgate.net/publication/4974606_Hedonic_housing_prices_and_the_demand_for_clean_air>\n",
     "output_type": "error",
     "traceback": [
      "\u001b[0;31m---------------------------------------------------------------------------\u001b[0m",
      "\u001b[0;31mImportError\u001b[0m                               Traceback (most recent call last)",
      "Cell \u001b[0;32mIn[2], line 1\u001b[0m\n\u001b[0;32m----> 1\u001b[0m boston \u001b[38;5;241m=\u001b[39m \u001b[43mdatasets\u001b[49m\u001b[38;5;241;43m.\u001b[39;49m\u001b[43mload_boston\u001b[49m()\n\u001b[1;32m      2\u001b[0m boston\u001b[38;5;241m.\u001b[39mkeys()\n\u001b[1;32m      3\u001b[0m boston\u001b[38;5;241m.\u001b[39minfo()\n",
      "File \u001b[0;32m~/.local/lib/python3.11/site-packages/sklearn/datasets/__init__.py:156\u001b[0m, in \u001b[0;36m__getattr__\u001b[0;34m(name)\u001b[0m\n\u001b[1;32m    105\u001b[0m \u001b[38;5;28;01mif\u001b[39;00m name \u001b[38;5;241m==\u001b[39m \u001b[38;5;124m\"\u001b[39m\u001b[38;5;124mload_boston\u001b[39m\u001b[38;5;124m\"\u001b[39m:\n\u001b[1;32m    106\u001b[0m     msg \u001b[38;5;241m=\u001b[39m textwrap\u001b[38;5;241m.\u001b[39mdedent(\n\u001b[1;32m    107\u001b[0m \u001b[38;5;250m        \u001b[39m\u001b[38;5;124;03m\"\"\"\u001b[39;00m\n\u001b[1;32m    108\u001b[0m \u001b[38;5;124;03m        `load_boston` has been removed from scikit-learn since version 1.2.\u001b[39;00m\n\u001b[0;32m   (...)\u001b[0m\n\u001b[1;32m    154\u001b[0m \u001b[38;5;124;03m        \"\"\"\u001b[39;00m\n\u001b[1;32m    155\u001b[0m     )\n\u001b[0;32m--> 156\u001b[0m     \u001b[38;5;28;01mraise\u001b[39;00m \u001b[38;5;167;01mImportError\u001b[39;00m(msg)\n\u001b[1;32m    157\u001b[0m \u001b[38;5;28;01mtry\u001b[39;00m:\n\u001b[1;32m    158\u001b[0m     \u001b[38;5;28;01mreturn\u001b[39;00m \u001b[38;5;28mglobals\u001b[39m()[name]\n",
      "\u001b[0;31mImportError\u001b[0m: \n`load_boston` has been removed from scikit-learn since version 1.2.\n\nThe Boston housing prices dataset has an ethical problem: as\ninvestigated in [1], the authors of this dataset engineered a\nnon-invertible variable \"B\" assuming that racial self-segregation had a\npositive impact on house prices [2]. Furthermore the goal of the\nresearch that led to the creation of this dataset was to study the\nimpact of air quality but it did not give adequate demonstration of the\nvalidity of this assumption.\n\nThe scikit-learn maintainers therefore strongly discourage the use of\nthis dataset unless the purpose of the code is to study and educate\nabout ethical issues in data science and machine learning.\n\nIn this special case, you can fetch the dataset from the original\nsource::\n\n    import pandas as pd\n    import numpy as np\n\n    data_url = \"http://lib.stat.cmu.edu/datasets/boston\"\n    raw_df = pd.read_csv(data_url, sep=\"\\s+\", skiprows=22, header=None)\n    data = np.hstack([raw_df.values[::2, :], raw_df.values[1::2, :2]])\n    target = raw_df.values[1::2, 2]\n\nAlternative datasets include the California housing dataset and the\nAmes housing dataset. You can load the datasets as follows::\n\n    from sklearn.datasets import fetch_california_housing\n    housing = fetch_california_housing()\n\nfor the California housing dataset and::\n\n    from sklearn.datasets import fetch_openml\n    housing = fetch_openml(name=\"house_prices\", as_frame=True)\n\nfor the Ames housing dataset.\n\n[1] M Carlisle.\n\"Racist data destruction?\"\n<https://medium.com/@docintangible/racist-data-destruction-113e3eff54a8>\n\n[2] Harrison Jr, David, and Daniel L. Rubinfeld.\n\"Hedonic housing prices and the demand for clean air.\"\nJournal of environmental economics and management 5.1 (1978): 81-102.\n<https://www.researchgate.net/publication/4974606_Hedonic_housing_prices_and_the_demand_for_clean_air>\n"
     ]
    }
   ],
   "source": [
    "boston = datasets.load_boston()\n",
    "boston.keys()\n",
    "boston.info()"
   ]
  }
 ],
 "metadata": {
  "kernelspec": {
   "display_name": "base",
   "language": "python",
   "name": "python3"
  },
  "language_info": {
   "codemirror_mode": {
    "name": "ipython",
    "version": 3
   },
   "file_extension": ".py",
   "mimetype": "text/x-python",
   "name": "python",
   "nbconvert_exporter": "python",
   "pygments_lexer": "ipython3",
   "version": "3.11.8"
  }
 },
 "nbformat": 4,
 "nbformat_minor": 2
}
