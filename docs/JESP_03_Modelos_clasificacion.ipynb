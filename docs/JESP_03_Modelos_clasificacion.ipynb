{
 "cells": [
  {
   "cell_type": "markdown",
   "metadata": {},
   "source": [
    "# Modelos de clasificación"
   ]
  },
  {
   "cell_type": "markdown",
   "metadata": {},
   "source": [
    "### Información del curso:\n",
    "- **Nombre del curso**: Introducción al aprendizaje automático\n",
    "- **Profesor**: Dr. Jesús Emmanuel Solís Pérez\n",
    "- **Email**: jsolisp@unam.mx\n",
    "- **Semestre**: 2025-1\n",
    "- **Fecha**: Diciembre 09, 2024\n",
    "- **Enlace del curso**: [https://jesolisp.github.io/Curso-Introduccion-Aprendizaje-Automatico](https://jesolisp.github.io/Curso-Introduccion-Aprendizaje-Automatico/docs/home.html)\n",
    "\n",
    "---\n",
    "\n",
    "### Información del Notebook:\n",
    "- **Título del Notebook**: Modelos de clasificación\n",
    "- **Versión**: 1.0\n",
    "- **Última modificación**: November 17, 2024\n",
    "- **Descripción**: Este cuaderno tiene como finalidad dar a conocer las aplicaciones y tipos de aprendizaje automático.\n",
    "\n",
    "---\n",
    "\n",
    "### Instrucciones:\n",
    "1. **Orden de ejecución de celdas**: Ejecute las celdas en el orden presentado para garantizar que las dependencias se manejen adecuadamente.\n",
    "2. **Envío**: Guarde y envíe este cuaderno como un archivo `.ipynb` antes de la fecha de vencimiento.\n",
    "3. **Comentarios y documentación**: asegúrese de agregar comentarios y documentación adecuados a su código.\n",
    "\n",
    "---\n",
    "\n",
    "### Licencia:\n",
    "- Este cuaderno se proporciona únicamente con fines educativos. Todos los derechos reservados © 2024 ENES Juriquilla.\n",
    "\n",
    "---"
   ]
  },
  {
   "cell_type": "markdown",
   "metadata": {},
   "source": [
    "## Evaluación de modelos de clasificación.\n",
    "## Regresión logística.\n",
    "## _K_ vecinos más cercanos.\n",
    "## Árboles de decisión.\n",
    "## Máquinas de soporte vectorial."
   ]
  },
  {
   "cell_type": "code",
   "execution_count": null,
   "metadata": {},
   "outputs": [],
   "source": []
  }
 ],
 "metadata": {
  "kernelspec": {
   "display_name": "base",
   "language": "python",
   "name": "python3"
  },
  "language_info": {
   "name": "python",
   "version": "3.11.8"
  }
 },
 "nbformat": 4,
 "nbformat_minor": 2
}
