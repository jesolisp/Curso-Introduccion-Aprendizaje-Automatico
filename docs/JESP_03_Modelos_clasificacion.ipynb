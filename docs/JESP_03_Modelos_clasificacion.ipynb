{
 "cells": [
  {
   "cell_type": "markdown",
   "metadata": {},
   "source": [
    "# Modelos de clasificación"
   ]
  },
  {
   "cell_type": "markdown",
   "metadata": {},
   "source": [
    "### Información del curso:\n",
    "- **Nombre del curso**: Introducción al aprendizaje automático\n",
    "- **Profesor**: Dr. Jesús Emmanuel Solís Pérez\n",
    "- **Email**: jsolisp@unam.mx\n",
    "- **Semestre**: 2025-1\n",
    "- **Fecha**: Diciembre 09, 2024\n",
    "- **Enlace del curso**: [https://jesolisp.github.io/Curso-Introduccion-Aprendizaje-Automatico](https://jesolisp.github.io/Curso-Introduccion-Aprendizaje-Automatico/docs/home.html)\n",
    "\n",
    "---\n",
    "\n",
    "### Información del Notebook:\n",
    "- **Título del Notebook**: Modelos de clasificación\n",
    "- **Versión**: 1.0\n",
    "- **Última modificación**: November 17, 2024\n",
    "- **Descripción**: Este cuaderno tiene como finalidad dar a conocer las aplicaciones y tipos de aprendizaje automático.\n",
    "\n",
    "---\n",
    "\n",
    "### Instrucciones:\n",
    "1. **Orden de ejecución de celdas**: Ejecute las celdas en el orden presentado para garantizar que las dependencias se manejen adecuadamente.\n",
    "2. **Envío**: Guarde y envíe este cuaderno como un archivo `.ipynb` antes de la fecha de vencimiento.\n",
    "3. **Comentarios y documentación**: asegúrese de agregar comentarios y documentación adecuados a su código.\n",
    "\n",
    "---\n",
    "\n",
    "### Licencia:\n",
    "- Este cuaderno se proporciona únicamente con fines educativos. Todos los derechos reservados © 2024 ENES Juriquilla.\n",
    "\n",
    "---"
   ]
  },
  {
   "cell_type": "markdown",
   "metadata": {},
   "source": [
    "## Evaluación de modelos de clasificación\n",
    "\n",
    "En un clasificador binario sólo se evalúan dos clases: clase $0$ y clase $1$. Por ejemplo, para una base de datos de cáncer tenemos:\n",
    "\n",
    "* _Casos negativos_: Clase $1$ (masas malignas)\n",
    "* _Casos positivos_: Clase $0$ (masas benignas)\n",
    "\n",
    "De lo anterior, tenemos 4 tipos de observaciones:\n",
    "\n",
    "* **True Positives (TP)**. Masas malignas que se clasifican como malignas.\n",
    "* **False Positives (FP)**. Masas benignas que se clasifican como malignas.\n",
    "* **True Negatives (TN)**. Masas malignas que se clasifican como malignas.\n",
    "* **False Negatives (FN)**. Masas malignas que se clasifican como benignas.\n",
    "\n",
    "Una alternativa y sencilla de comparar cómo el modelo ha clasificado cada observación a partir de la información anterior es la _Matriz de Confusión (MC)_. Esta matriz se puede obtener importando primero `from sklearn.metrics import confusion_matrix` y después llamando a la función `confusion_matrix(real_classes, predictions)`. Graficamente, la MC está dada como sigue:\n",
    "\n",
    "```{figure} images/TP-FP-FN-TN.png\n",
    " ---\n",
    " width: 340px\n",
    " height: 180px\n",
    " name: fig:TP-FP-FN-TN\n",
    " ---\n",
    " Imagen recuperada de {cite:t}`olson2015best`.\n",
    "```\n",
    "\n",
    "### Ratios de clasificación\n",
    "\n",
    "Para poder utilizar los siguientes ratios, es necesaria la instrucción `from sklearn import metrics`.\n",
    "\n",
    "* Accuracy (Exactitud)\n",
    "\n",
    "Mide la cantidad de casos que se han clasificado correctamente a partir de la siguiente expresión\n",
    "\n",
    "$$\n",
    " ACC = \\frac{TP + TN}{TP + TN + FP + FN} = \\frac{\\text{Número de observaciones correctamente clasificadas}}{\\text{Número de observaciones totales}}.\n",
    "$$\n",
    "\n",
    "Esta métrica es llamada a partir de la función `metrics.accuracy_score(real_classes, predictions)`.\n",
    "\n",
    "* Precission (Precisión)\n",
    "\n",
    "Mide la habilidad del modelo para clasificar los casos positivos como positivos\n",
    "\n",
    "$$\n",
    " PRE = \\frac{TP}{TP + FP} = \\frac{\\text{Número de observaciones positivas correctamente clasificadas}}{\\text{Número de observaciones clasificadas como positivas}}.\n",
    "$$\n",
    "\n",
    "Esta métrica se obtiene al llamar `metrics.average_precision_score(real_classes, predictions)`.\n",
    "\n",
    "* Sensitivity (Sensibilidad)\n",
    "\n",
    "Mide la habilidad del modelo para encontrar todos los casos positivos\n",
    "\n",
    "$$\n",
    " SEN = \\frac{TP}{TP + FN} = \\frac{\\text{Número de observaciones positivas clasificadas como positivas}}{\\text{Número de observaciones positivas totales}}\n",
    "$$\n",
    "\n",
    "Su llamado se hace como `metrics.recall_score(real_classes, predictions)`.\n",
    "\n",
    "* F1 score\n",
    "\n",
    "Es una medida ponderada entre SEN y ACC cuya relación está dad como sigue\n",
    "\n",
    "$$\n",
    " F_{1} = 2\\cdot \\frac{1}{\\frac{1}{ACC} + \\frac{1}{SEN}} = 2\\cdot \\frac{ACC\\cdot SEN}{ACC + SEN}.\n",
    "$$\n",
    "\n",
    "Esta métrica es llamada como `metrics.f1_score(real_classes, predictions)`\n",
    "\n",
    "* False Positive Ratio\n",
    "\n",
    "Es una medida de las probabilidades del modelo para asignar una clase positiva a un caso negativo\n",
    "\n",
    "$$\n",
    " FPR = \\frac{FP}{FP + TN} = \\frac{\\text{Número de observaciones negativas clasificadas como positivas}}{\\text{Número de observaciones negativas}}.\n",
    "$$\n",
    "\n",
    "`fpr(real_classes, predictions)`\n",
    "\n",
    "* Area Under the Curve (ROC-AUC)\n",
    "\n",
    "Permite encontrar un modelo que optimice la compensación entre FP y TP. El área debajo de la curva nos permite hacer la elección del modelo. Por ejemplo, si el área se encuentra al 100% entonces el modelo es capaz de distinguir entre resultados negativos y positivos la mayor parte del tiempo. Cuanto menor sea el área, peor será la clasificación.\n",
    "\n",
    "```{figure} images/ROC.png\n",
    " ---\n",
    " width: 340px\n",
    " height: 180px\n",
    " name: fig:ROC.png\n",
    " ---\n",
    "```\n",
    "\n",
    "Esta métrica es llamada a partir de la función `metrics.roc_auc_score(real_classes, predictions)`.\n",
    "\n",
    "## Regresión logística\n",
    "\n",
    "Los modelos lineales también son utilizado para los problemas de clasificación. Si consideramos una clasificación binaria, entonces podemos utilizar la siguiente ecuación\n",
    "\n",
    "$$\n",
    " y = \\beta_{0} + \\beta_{1}\\cdot x_{1} + \\beta_{2}\\cdot x_{2} + \\cdots + \\beta_{p}\\cdot x_{p} > 0.\n",
    "$$\n",
    "\n",
    "Como podemos observar, se parece mucho a la ecuación de un modelo de regresión lineal {eq}`eqn:ols` con la diferencia de que establecemos el umbral del valor predicho en cero. Si la ecuación anterior es menor que cero, predecimos la clase $-1$; si es mayor que cero entonces la clase $+1$.\n",
    "\n",
    "| Modelo              | Variable objetivo  | Rango variable       |\n",
    "|:-------------------:|:------------------:|:--------------------:|\n",
    "| Regresión lineal    | Variable numérica  | (-$\\infty$,$\\infty$) |\n",
    "| Regresión logística | Probabilidad clase | $[0,1]$              |\n",
    "\n",
    "Un clasificador binario separa dos clases utilizando una línea, un plano o un hiperplano. Los dos algoritmos de clasificación lineal más utilizados son: **regresión logística** `linear_model.LogisticRegression` y **máquinas de soporte vectorial lineal** `svm.LinearSVC`.\n",
    "\n",
    "Al generar una línea, se puede caer en el error de obtener valores distintos de $0$ y $1$. Esto conlleva a que no se estaría cumpliendo la condición de que la probabilidad debe estar en el intervalo $[0,1]$.\n",
    "\n",
    "Para evitar este problema, la regresión logística {cite}`cox1958regression` transforma el valor obtenido por OLS con una función cuyo rango $\\in(0,1)$. En la literatura podemos encontrar diversas funciones que cumplen con lo anterior. La más utilizada es la **función logística** o **sigmoide**:\n",
    "\n",
    "$$\n",
    " \\phi(\\eta) = \\frac{1}{1 + \\exp(-\\eta)}.\n",
    "$$ (eqn:logsig)"
   ]
  },
  {
   "cell_type": "code",
   "execution_count": 1,
   "metadata": {},
   "outputs": [
    {
     "data": {
      "image/png": "[encoded data removed]",
      "text/plain": [
       "<Figure size 640x480 with 1 Axes>"
      ]
     },
     "metadata": {},
     "output_type": "display_data"
    }
   ],
   "source": [
    "import numpy as np\n",
    "import matplotlib.pyplot as plt\n",
    "\n",
    "eta = np.linspace(-3,3,100)\n",
    "\n",
    "logsig = lambda n: 1/(1 + np.exp(-n)) # <--\n",
    "\n",
    "#def logsig(n):\n",
    "#    return 1/(1 + np.exp(-n))\n",
    "\n",
    "plt.figure()\n",
    "plt.plot(eta, logsig(eta))\n",
    "plt.xlabel('$\\eta$')\n",
    "plt.ylabel('$\\phi(\\eta)$')\n",
    "plt.title('Función logsig')\n",
    "plt.grid('on')\n",
    "plt.show()"
   ]
  },
  {
   "cell_type": "markdown",
   "metadata": {},
   "source": [
    "Sustituyendo la ecuación del modelo lineal {eq}`eqn:ols` en la ecuación {eq}`eqn:logsig` tenemos\n",
    "\n",
    "$$\n",
    " P(y=1|X = x) = \\frac{\\beta_{0}\\cdot x_{0} + \\beta_{1}\\cdot x_{1} + \\cdots + \\beta_{p}\\cdot x_{p} + b}{1 + \\exp\\left( \\beta_{0}\\cdot x_{0} + \\beta_{1}\\cdot x_{1} + \\cdots + \\beta_{p}\\cdot x_{p} + b \\right)},\n",
    "$$\n",
    "donde $P(y=1|X = x)$ se interpreta como la probabilidad de que $y$ adquiera el valor de $1$, dados los predictores $x_{0},x_{1},\\dots,x_{p}$.\n",
    "\n",
    "Ahora bien, `scikit-learn` permite trabajar con un modelo de regresión logística con un parámetro de compensación que rige la fuerza de la regularización llamado **C**. Aquí: \n",
    "\n",
    "* Si $C\\gg$, entonces el modelo intenta ajustarse al conjunto de entrenamiento lo mejor posible.\n",
    "* Si $C\\ll$, entonces el modelo intenta encontrar un vector de coeficientes $\\beta$ cercano a cero.\n",
    "\n",
    "Además, el parámetro **C** influye de la siguiente manera:\n",
    "\n",
    "* Si $C<$, entonces los algoritmos intenten ajustarse a la mayor cantidad de datos.\n",
    "* Si $C>$, entonces los algoritmos tratan de que se clasifiquen correctamente.\n",
    "\n",
    "```{note}\n",
    " Entiendase que $<$ denota un valor 'bajo' (pequeño) y $>$ denota un valor 'alto' (grande).\n",
    "```\n",
    "\n",
    "El valor por default en `linear_model.LogisticRegression` es $C = 1$ que proporciona un rendimiento bastante aceptable, con una precisión del 95% tanto en el conjunto de entrenamiento como en el de prueba.\n",
    "\n",
    "---\n",
    "\n",
    "# Ejemplo\n",
    "Para trabajar el modelo de regresión logística, vamos a utilizar la base de datos de cáncer de mama de Wisconsin (diagnóstico) {cite}`BreastCancerWisconsin`\n",
    "\n",
    "En esta base de datos, las características se calculan a partir de una imagen digitalizada de una masa mamaria. \n",
    "\n",
    "**Información de los atributos**\n",
    "1. Número de identificación\n",
    "2. Diagnóstico (M = maligno, B = benigno)\n",
    "3. Variables (32)\n",
    "\n",
    "Se calculan diez características de valor real para cada núcleo celular:\n",
    "\n",
    "* radio (media de las distancias desde el centro hasta los puntos del perímetro)\n",
    "* textura (desviación estándar de los valores de la escala de grises)\n",
    "* perímetro\n",
    "* área\n",
    "* suavidad (variación local en longitudes de radio)\n",
    "* compacidad (perímetro ^ 2 / área - 1.0)\n",
    "* concavidad (severidad de las porciones cóncavas del contorno)\n",
    "* puntos cóncavos (número de porciones cóncavas del contorno)\n",
    "* simetría\n",
    "* dimensión fractal (\"aproximación de la línea costera\" - 1)\n",
    "\n",
    "La media, el error estándar y \"peor\" o mayor (media de los tres valores más grandes) de estas características se calcularon para cada imagen, resultando en 30 funciones. Por ejemplo, el campo 3 es Radio medio, campo 13 es Radio SE, el campo 23 es Peor radio.\n",
    "\n",
    "Todos los valores de las funciones se recodifican con cuatro dígitos significativos. Además, la distribución de clases está dada como: 357 benignas y 212 malignas\n",
    "\n",
    "Una de las imágenes digitalizadas que conforman la base de datos es la siguiente:\n",
    "\n",
    "```{figure} images/dataset-card.jpg\n",
    " ---\n",
    " width: 340px\n",
    " height: 180px\n",
    " name: fig:dataset-card\n",
    " ---\n",
    "```"
   ]
  },
  {
   "cell_type": "code",
   "execution_count": 2,
   "metadata": {},
   "outputs": [
    {
     "data": {
      "text/plain": [
       "0\n",
       "1    357\n",
       "0    212\n",
       "Name: count, dtype: int64"
      ]
     },
     "execution_count": 2,
     "metadata": {},
     "output_type": "execute_result"
    }
   ],
   "source": [
    "import pandas as pd\n",
    "import seaborn as sns\n",
    "\n",
    "from sklearn import metrics\n",
    "from sklearn.datasets import load_breast_cancer\n",
    "from sklearn.linear_model import LogisticRegression\n",
    "from sklearn.model_selection import train_test_split\n",
    "from sklearn.metrics import confusion_matrix, ConfusionMatrixDisplay\n",
    "\n",
    "# 1. Carga y regresa el conjunto de datos de Wisconsin de cancer de seno (clasificación)\n",
    "cancer = load_breast_cancer()\n",
    "\n",
    "pd.DataFrame(cancer.target).value_counts()"
   ]
  },
  {
   "cell_type": "code",
   "execution_count": 3,
   "metadata": {},
   "outputs": [
    {
     "data": {
      "text/plain": [
       "0\n",
       "0    357\n",
       "1    212\n",
       "Name: count, dtype: int64"
      ]
     },
     "execution_count": 3,
     "metadata": {},
     "output_type": "execute_result"
    }
   ],
   "source": [
    "# Reemplazamos los 0 por 1 y 1 por cero de modo que tenemos las siguientes clases:\n",
    "# Clase 0: Benignas\n",
    "# Clase 1: Malignas\n",
    "pd.DataFrame(cancer['target']).replace({1:0,0:1}, inplace=True)\n",
    "\n",
    "pd.DataFrame(cancer.target).value_counts()"
   ]
  },
  {
   "cell_type": "code",
   "execution_count": 4,
   "metadata": {},
   "outputs": [],
   "source": [
    "# 6. Procesamiento de los datos\n",
    "X_train, X_test, y_train, y_test = train_test_split(cancer.data, cancer.target, test_size = 0.20, random_state = 696)"
   ]
  },
  {
   "cell_type": "code",
   "execution_count": 5,
   "metadata": {},
   "outputs": [
    {
     "name": "stdout",
     "output_type": "stream",
     "text": [
      "Training score: 0.954\n",
      "Test score: 0.991\n"
     ]
    }
   ],
   "source": [
    "# 6.1. Creacion del modelo logistico \n",
    "logreg = LogisticRegression(solver = 'liblinear')\n",
    "\n",
    "# 6.2. Ajuste del modelo\n",
    "logreg.fit(X_train, y_train)\n",
    "\n",
    "# 6.3. Prediccion del modelo\n",
    "y_train_pred = logreg.predict(X_train)\n",
    "y_test_pred = logreg.predict(X_test)\n",
    "\n",
    "# 7. Obtenemos la puntuación del modelo\n",
    "print('Training score: {:.3f}'.format(logreg.score(X_train, y_train)))\n",
    "print('Test score: {:.3f}'.format(logreg.score(X_test, y_test)))"
   ]
  },
  {
   "cell_type": "code",
   "execution_count": 6,
   "metadata": {},
   "outputs": [
    {
     "data": {
      "text/html": [
       "<div>\n",
       "<style scoped>\n",
       "    .dataframe tbody tr th:only-of-type {\n",
       "        vertical-align: middle;\n",
       "    }\n",
       "\n",
       "    .dataframe tbody tr th {\n",
       "        vertical-align: top;\n",
       "    }\n",
       "\n",
       "    .dataframe thead th {\n",
       "        text-align: right;\n",
       "    }\n",
       "</style>\n",
       "<table border=\"1\" class=\"dataframe\">\n",
       "  <thead>\n",
       "    <tr style=\"text-align: right;\">\n",
       "      <th></th>\n",
       "      <th>0</th>\n",
       "      <th>1</th>\n",
       "    </tr>\n",
       "  </thead>\n",
       "  <tbody>\n",
       "    <tr>\n",
       "      <th>0</th>\n",
       "      <td>9.993142e-01</td>\n",
       "      <td>0.000686</td>\n",
       "    </tr>\n",
       "    <tr>\n",
       "      <th>1</th>\n",
       "      <td>0.000000e+00</td>\n",
       "      <td>1.000000</td>\n",
       "    </tr>\n",
       "    <tr>\n",
       "      <th>2</th>\n",
       "      <td>9.847362e-01</td>\n",
       "      <td>0.015264</td>\n",
       "    </tr>\n",
       "    <tr>\n",
       "      <th>3</th>\n",
       "      <td>2.831031e-07</td>\n",
       "      <td>1.000000</td>\n",
       "    </tr>\n",
       "    <tr>\n",
       "      <th>4</th>\n",
       "      <td>9.991062e-01</td>\n",
       "      <td>0.000894</td>\n",
       "    </tr>\n",
       "  </tbody>\n",
       "</table>\n",
       "</div>"
      ],
      "text/plain": [
       "              0         1\n",
       "0  9.993142e-01  0.000686\n",
       "1  0.000000e+00  1.000000\n",
       "2  9.847362e-01  0.015264\n",
       "3  2.831031e-07  1.000000\n",
       "4  9.991062e-01  0.000894"
      ]
     },
     "execution_count": 6,
     "metadata": {},
     "output_type": "execute_result"
    }
   ],
   "source": [
    "# 7.1. Calculamos las probabilidades de las predicciones sobre el conjunto de entrenamiento\n",
    "probs_df = pd.DataFrame(logreg.predict_proba(X_train))\n",
    "probs_df.head()"
   ]
  },
  {
   "cell_type": "code",
   "execution_count": 7,
   "metadata": {},
   "outputs": [
    {
     "data": {
      "image/png": "[encoded data removed]",
      "text/plain": [
       "<Figure size 640x480 with 1 Axes>"
      ]
     },
     "metadata": {},
     "output_type": "display_data"
    }
   ],
   "source": [
    "plt.figure()\n",
    "plt.plot(X_train, y_train, '.')\n",
    "plt.plot(X_train, y_train_pred, '.k')\n",
    "plt.title('Clasificacion conjunto de entrenamiento')\n",
    "plt.show()"
   ]
  },
  {
   "cell_type": "code",
   "execution_count": 8,
   "metadata": {},
   "outputs": [
    {
     "data": {
      "image/png": "[encoded data removed]",
      "text/plain": [
       "<Figure size 640x480 with 1 Axes>"
      ]
     },
     "metadata": {},
     "output_type": "display_data"
    }
   ],
   "source": [
    "plt.figure()\n",
    "plt.plot(X_test, y_test, '.')\n",
    "plt.plot(X_test, y_test_pred, '.k')\n",
    "plt.title('Clasificacion conjunto de prueba')\n",
    "plt.show()"
   ]
  },
  {
   "cell_type": "code",
   "execution_count": 9,
   "metadata": {},
   "outputs": [],
   "source": [
    "def eval_model(target, estimations):\n",
    "    return {\n",
    "        'ACC': metrics.accuracy_score(target, estimations),\n",
    "        'PRE': metrics.average_precision_score(target, estimations),\n",
    "        'SEN': metrics.recall_score(target, estimations),\n",
    "        'F1': metrics.f1_score(target, estimations),\n",
    "        'AuC': metrics.roc_auc_score(target, estimations)\n",
    "    }"
   ]
  },
  {
   "cell_type": "code",
   "execution_count": 10,
   "metadata": {},
   "outputs": [
    {
     "data": {
      "text/html": [
       "<div>\n",
       "<style scoped>\n",
       "    .dataframe tbody tr th:only-of-type {\n",
       "        vertical-align: middle;\n",
       "    }\n",
       "\n",
       "    .dataframe tbody tr th {\n",
       "        vertical-align: top;\n",
       "    }\n",
       "\n",
       "    .dataframe thead th {\n",
       "        text-align: right;\n",
       "    }\n",
       "</style>\n",
       "<table border=\"1\" class=\"dataframe\">\n",
       "  <thead>\n",
       "    <tr style=\"text-align: right;\">\n",
       "      <th></th>\n",
       "      <th>train</th>\n",
       "      <th>test</th>\n",
       "    </tr>\n",
       "  </thead>\n",
       "  <tbody>\n",
       "    <tr>\n",
       "      <th>ACC</th>\n",
       "      <td>0.953846</td>\n",
       "      <td>0.991228</td>\n",
       "    </tr>\n",
       "    <tr>\n",
       "      <th>PRE</th>\n",
       "      <td>0.909386</td>\n",
       "      <td>0.975000</td>\n",
       "    </tr>\n",
       "    <tr>\n",
       "      <th>SEN</th>\n",
       "      <td>0.924855</td>\n",
       "      <td>1.000000</td>\n",
       "    </tr>\n",
       "    <tr>\n",
       "      <th>F1</th>\n",
       "      <td>0.938416</td>\n",
       "      <td>0.987342</td>\n",
       "    </tr>\n",
       "    <tr>\n",
       "      <th>AuC</th>\n",
       "      <td>0.948243</td>\n",
       "      <td>0.993333</td>\n",
       "    </tr>\n",
       "  </tbody>\n",
       "</table>\n",
       "</div>"
      ],
      "text/plain": [
       "        train      test\n",
       "ACC  0.953846  0.991228\n",
       "PRE  0.909386  0.975000\n",
       "SEN  0.924855  1.000000\n",
       "F1   0.938416  0.987342\n",
       "AuC  0.948243  0.993333"
      ]
     },
     "execution_count": 10,
     "metadata": {},
     "output_type": "execute_result"
    }
   ],
   "source": [
    "results = {}\n",
    "results['train'] = eval_model(y_train, y_train_pred)\n",
    "results['test'] = eval_model(y_test, y_test_pred)\n",
    "pd.DataFrame(results)"
   ]
  },
  {
   "cell_type": "code",
   "execution_count": 11,
   "metadata": {},
   "outputs": [
    {
     "data": {
      "image/png": "[encoded data removed]",
      "text/plain": [
       "<Figure size 640x480 with 2 Axes>"
      ]
     },
     "metadata": {},
     "output_type": "display_data"
    }
   ],
   "source": [
    "cm = confusion_matrix(y_train, y_train_pred)\n",
    "cmd = ConfusionMatrixDisplay(confusion_matrix=cm)\n",
    "\n",
    "cmd.plot(include_values=True, cmap='viridis', ax=None, xticks_rotation='horizontal')\n",
    "plt.show()"
   ]
  },
  {
   "cell_type": "code",
   "execution_count": 12,
   "metadata": {},
   "outputs": [
    {
     "data": {
      "image/png": "[encoded data removed]",
      "text/plain": [
       "<Figure size 640x480 with 2 Axes>"
      ]
     },
     "metadata": {},
     "output_type": "display_data"
    }
   ],
   "source": [
    "cm = confusion_matrix(y_test, y_test_pred)\n",
    "cmd = ConfusionMatrixDisplay(confusion_matrix=cm)\n",
    "\n",
    "cmd.plot(include_values=True, cmap='viridis', ax=None, xticks_rotation='horizontal')\n",
    "plt.show()"
   ]
  },
  {
   "cell_type": "markdown",
   "metadata": {},
   "source": [
    "---\n",
    "\n",
    "# Ejercicio de clase I\n",
    "\n",
    "Base de datos de diabetes de los Indios Pima del Instituto Nacional de Diabetes y Enfermedades Digestivas y Renales\n",
    "\n",
    "**Información relevante**\n",
    "* Todos los pacientes son mujeres de al menos 21 años de ascendencia India Pima. \n",
    "* Número de instancias: 768\n",
    "* Número de atributos: 8 más clase\n",
    "\n",
    "Para cada atributo: (todos con valores numéricos)\n",
    "1. Número de embarazos (PREG)\n",
    "2. Concentración de glucosa en plasma a 2 horas en una prueba de tolerancia a la glucosa oral (HPGC)\n",
    "3. Presión arterial diastólica (mm Hg) (DBP)\n",
    "4. Espesor del pliegue cutáneo del tríceps (mm) (TSFT)\n",
    "5. Insulina sérica de 2 horas (mu U / ml) (HSI)\n",
    "6. Índice de masa corporal (peso en kg / (altura en m) ^ 2) (BMI)\n",
    "7. Función del pedigrí de la diabetes (RDP)\n",
    "8. Edad (años) (AGE)\n",
    "9. Variable de clase (0 o 1) (CLASS)\n",
    "\n",
    "Distribución de clases: (el valor de clase 1 se interpreta como \"positivo a diabetes\")\n",
    "\n",
    "| Valor de la Clase | Número de instancias |\n",
    "| :---------------: | :------------------: |\n",
    "| 0                 | 500                  |\n",
    "| 1                 | 268                  |\n",
    "\n",
    "---"
   ]
  },
  {
   "cell_type": "markdown",
   "metadata": {},
   "source": [
    "## _K_ vecinos más cercanos.\n",
    "\n",
    "El algoritmo de _K_ vecinos es uno de los algoritmos de AA más simples ya que su construcción consiste en almacenar el conjunto de datos de entrenamiento. Para hacer una predicción a partir de un conjunto de datos nuevos, el algoritmo busca los puntos de datos más cercanos en el conjunto de datos de entrenamiento, es decir sus \"vecinos más cercanos\".\n",
    "\n",
    "```{figure} images/knn_classification.png\n",
    " ---\n",
    " height: 280px\n",
    " width: 440px\n",
    " name: fig:knn_classification\n",
    " ---\n",
    " Predicciones hechas por el modelo del vecino más cercano.\n",
    "```\n",
    "\n",
    "En este tipo de modelos, también se puede considerar un número arbitrario _k_ de vecinos.\n",
    "\n",
    "Al considerar más vecinos, se asigna una etiqueta. Es decir, para cada punto de prueba se cuenta el número de vecinos que pertenecen a la clase 0 y a la clase 1. Posterior a ello se asigna la clase que es más frecuente. Esto es, la clase mayoritaria entre los vecinos más cercanos.\n",
    "\n",
    "```{figure} images/knn_classification_3.png\n",
    " ---\n",
    " height: 280px\n",
    " width: 440px\n",
    " name: fig:knn_classification_3\n",
    " ---\n",
    " Predicciones hechas por el modelo del vecino más cercano.\n",
    "```\n",
    "\n",
    "Para trabajar con este tipo de modelos, utilizamos la siguiente instrucción `from sklearn.neighbors import KNeighborsClassifier` y creamos una instancia como `kNC = KNeighborsClassifier(n_neighbors=3)`, donde 3 indica el número de vecinos."
   ]
  },
  {
   "cell_type": "code",
   "execution_count": null,
   "metadata": {},
   "outputs": [
    {
     "name": "stdout",
     "output_type": "stream",
     "text": [
      "Training score: 1.000\n",
      "Test score: 0.947\n"
     ]
    },
    {
     "data": {
      "text/html": [
       "<div>\n",
       "<style scoped>\n",
       "    .dataframe tbody tr th:only-of-type {\n",
       "        vertical-align: middle;\n",
       "    }\n",
       "\n",
       "    .dataframe tbody tr th {\n",
       "        vertical-align: top;\n",
       "    }\n",
       "\n",
       "    .dataframe thead th {\n",
       "        text-align: right;\n",
       "    }\n",
       "</style>\n",
       "<table border=\"1\" class=\"dataframe\">\n",
       "  <thead>\n",
       "    <tr style=\"text-align: right;\">\n",
       "      <th></th>\n",
       "      <th>train</th>\n",
       "      <th>test</th>\n",
       "    </tr>\n",
       "  </thead>\n",
       "  <tbody>\n",
       "    <tr>\n",
       "      <th>ACC</th>\n",
       "      <td>1.0</td>\n",
       "      <td>0.947368</td>\n",
       "    </tr>\n",
       "    <tr>\n",
       "      <th>PRE</th>\n",
       "      <td>1.0</td>\n",
       "      <td>0.878387</td>\n",
       "    </tr>\n",
       "    <tr>\n",
       "      <th>SEN</th>\n",
       "      <td>1.0</td>\n",
       "      <td>0.923077</td>\n",
       "    </tr>\n",
       "    <tr>\n",
       "      <th>F1</th>\n",
       "      <td>1.0</td>\n",
       "      <td>0.923077</td>\n",
       "    </tr>\n",
       "    <tr>\n",
       "      <th>AuC</th>\n",
       "      <td>1.0</td>\n",
       "      <td>0.941538</td>\n",
       "    </tr>\n",
       "  </tbody>\n",
       "</table>\n",
       "</div>"
      ],
      "text/plain": [
       "     train      test\n",
       "ACC    1.0  0.947368\n",
       "PRE    1.0  0.878387\n",
       "SEN    1.0  0.923077\n",
       "F1     1.0  0.923077\n",
       "AuC    1.0  0.941538"
      ]
     },
     "execution_count": 17,
     "metadata": {},
     "output_type": "execute_result"
    }
   ],
   "source": [
    "from sklearn.neighbors import KNeighborsClassifier\n",
    "\n",
    "# Creamos una instancia al modelo de clasificacion de K vecinos\n",
    "kNC = KNeighborsClassifier(n_neighbors=2)\n",
    "\n",
    "# Ajustamos el modelo para hacer predicciones\n",
    "kNC.fit(X_train, y_train)\n",
    "\n",
    "# Prediccion del modelo K vecinos\n",
    "y_train_pred_kNC = kNC.predict(X_train)\n",
    "y_test_pred_kNC = kNC.predict(X_test)\n",
    "\n",
    "# 7. Obtenemos la puntuación del modelo\n",
    "print('Training score: {:.3f}'.format(kNC.score(X_train, y_train)))\n",
    "print('Test score: {:.3f}'.format(kNC.score(X_test, y_test)))\n",
    "\n",
    "results = {}\n",
    "results['train'] = eval_model(y_train, y_train_pred_kNC)\n",
    "results['test'] = eval_model(y_test, y_test_pred_kNC)\n",
    "pd.DataFrame(results)"
   ]
  },
  {
   "cell_type": "code",
   "execution_count": 18,
   "metadata": {},
   "outputs": [
    {
     "data": {
      "image/png": "[encoded data removed]",
      "text/plain": [
       "<Figure size 640x480 with 2 Axes>"
      ]
     },
     "metadata": {},
     "output_type": "display_data"
    }
   ],
   "source": [
    "cm = confusion_matrix(y_train, y_train_pred_kNC)\n",
    "cmd = ConfusionMatrixDisplay(confusion_matrix=cm)\n",
    "\n",
    "cmd.plot(include_values=True, cmap='viridis', ax=None, xticks_rotation='horizontal')\n",
    "plt.show()"
   ]
  },
  {
   "cell_type": "code",
   "execution_count": 20,
   "metadata": {},
   "outputs": [
    {
     "data": {
      "image/png": "[encoded data removed]",
      "text/plain": [
       "<Figure size 640x480 with 2 Axes>"
      ]
     },
     "metadata": {},
     "output_type": "display_data"
    }
   ],
   "source": [
    "cm = confusion_matrix(y_test, y_test_pred_kNC)\n",
    "cmd = ConfusionMatrixDisplay(confusion_matrix=cm)\n",
    "\n",
    "cmd.plot(include_values=True, cmap='viridis', ax=None, xticks_rotation='horizontal')\n",
    "plt.show()"
   ]
  }
 ],
 "metadata": {
  "kernelspec": {
   "display_name": "base",
   "language": "python",
   "name": "python3"
  },
  "language_info": {
   "codemirror_mode": {
    "name": "ipython",
    "version": 3
   },
   "file_extension": ".py",
   "mimetype": "text/x-python",
   "name": "python",
   "nbconvert_exporter": "python",
   "pygments_lexer": "ipython3",
   "version": "3.11.8"
  }
 },
 "nbformat": 4,
 "nbformat_minor": 2
}
